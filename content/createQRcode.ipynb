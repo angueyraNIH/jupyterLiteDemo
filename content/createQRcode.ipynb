{
  "metadata": {
    "language_info": {
      "codemirror_mode": {
        "name": "python",
        "version": 3
      },
      "file_extension": ".py",
      "mimetype": "text/x-python",
      "name": "python",
      "nbconvert_exporter": "python",
      "pygments_lexer": "ipython3",
      "version": "3.8"
    },
    "kernelspec": {
      "name": "python",
      "display_name": "Pyolite",
      "language": "python"
    }
  },
  "nbformat_minor": 4,
  "nbformat": 4,
  "cells": [
    {
      "cell_type": "markdown",
      "source": "## Creating QR codes for websites",
      "metadata": {}
    },
    {
      "cell_type": "markdown",
      "source": "> documentation [here](https://github.com/lincolnloop/python-qrcode)",
      "metadata": {}
    },
    {
      "cell_type": "code",
      "source": "import pyolite\nprint(\"Successfully loaded pyolite version {0}\".format(pyolite.__version__))",
      "metadata": {
        "trusted": true
      },
      "execution_count": 2,
      "outputs": [
        {
          "name": "stdout",
          "text": "Successfully loaded pyolite version 0.1.0b4\n",
          "output_type": "stream"
        }
      ]
    },
    {
      "cell_type": "code",
      "source": "import pyodide\nimport piplite\nimport matplotlib.pyplot as plt\nimport matplotlib.font_manager as font_manager\n\nawait piplite.install('ipywidgets')\nimport ipywidgets\n\nawait piplite.install('qrcode', keep_going=True)\nimport qrcode\nimport qrcode.image.svg\nqrcode.make(image_factory=qrcode.image.svg.SvgPathImage)\n\nqrURL = ipywidgets.Text(value='',placeholder='URL here',description='',disabled=False, layout=ipywidgets.Layout(width='70%', height='40px'))\nqrLabel = ipywidgets.widgets.Label('URL:', layout=ipywidgets.Layout(width='3%', height='30px'))\nqrW = ipywidgets.widgets.HBox([qrLabel,qrURL])\n\n# qrB = ipywidgets.Button(description='Generate QR',disabled=False,button_style='',tooltip='Click to display QR code',\n#                        layout=ipywidgets.Layout(width='20%', height='80px'))\n# qrB_out = ipywidgets.Output()\n\ndef displayQR (urlAddress):\n        qr = qrcode.QRCode(version=1, box_size=10, border=4)\n        qr.add_data(urlAddress)\n        qr.make(fit=True)\n        img = qr.make_image(fill='black', back_color='white')\n        return img\n    \nqrW",
      "metadata": {
        "trusted": true
      },
      "execution_count": 43,
      "outputs": [
        {
          "output_type": "display_data",
          "data": {
            "text/plain": "HBox(children=(Label(value='URL:', layout=Layout(height='30px', width='3%')), Text(value='', layout=Layout(hei…",
            "application/vnd.jupyter.widget-view+json": {
              "version_major": 2,
              "version_minor": 0,
              "model_id": "c698daaef8c64ad0a9a9c69029c99ed1"
            }
          },
          "metadata": {}
        },
        {
          "execution_count": 43,
          "output_type": "execute_result",
          "data": {},
          "metadata": {}
        }
      ]
    },
    {
      "cell_type": "code",
      "source": "displayQR(qrURL.value)",
      "metadata": {
        "trusted": true
      },
      "execution_count": 44,
      "outputs": [
        {
          "execution_count": 44,
          "output_type": "execute_result",
          "data": {
            "text/plain": "<qrcode.image.pil.PilImage at 0x4622850>",
            "image/png": "[encoded data removed]"
          },
          "metadata": {}
        }
      ]
    },
    {
      "cell_type": "code",
      "source": "",
      "metadata": {},
      "execution_count": null,
      "outputs": []
    }
  ]
}